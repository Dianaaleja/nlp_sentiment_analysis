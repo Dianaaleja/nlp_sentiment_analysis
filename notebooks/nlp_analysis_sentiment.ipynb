{
 "cells": [
  {
   "cell_type": "markdown",
   "id": "77638988",
   "metadata": {},
   "source": [
    "## 1. Install libraries needed "
   ]
  },
  {
   "cell_type": "code",
   "execution_count": 51,
   "id": "b20b4862",
   "metadata": {},
   "outputs": [
    {
     "name": "stderr",
     "output_type": "stream",
     "text": [
      "[nltk_data] Downloading package punkt_tab to\n",
      "[nltk_data]     /Users/dianaterraza/nltk_data...\n",
      "[nltk_data]   Package punkt_tab is already up-to-date!\n",
      "[nltk_data] Downloading package stopwords to\n",
      "[nltk_data]     /Users/dianaterraza/nltk_data...\n",
      "[nltk_data]   Package stopwords is already up-to-date!\n",
      "[nltk_data] Downloading package punkt to\n",
      "[nltk_data]     /Users/dianaterraza/nltk_data...\n",
      "[nltk_data]   Package punkt is already up-to-date!\n",
      "[nltk_data] Downloading package wordnet to\n",
      "[nltk_data]     /Users/dianaterraza/nltk_data...\n",
      "[nltk_data]   Package wordnet is already up-to-date!\n"
     ]
    }
   ],
   "source": [
    "# Importing necessary libraries\n",
    "import numpy as np  # for numerical operations\n",
    "import pandas as pd  # for data manipulation\n",
    "import random  # for shuffling the data\n",
    "import nltk\n",
    "import re  # for handling regular expressions\n",
    "\n",
    "from nltk.stem import WordNetLemmatizer  # for lemmatizing words\n",
    "from nltk.corpus import stopwords  # for stop word removal\n",
    "from nltk.tokenize import word_tokenize  # for tokenizing sentences into words\n",
    "nltk.download('punkt_tab')  # Downloads the 'punkt' tokenizer table used for tokenization of text into sentences or words\n",
    "from nltk import bigrams  # For generating bigrams\n",
    "\n",
    "# Downloading necessary NLTK resources\n",
    "nltk.download('stopwords')  # List of common stop words in English\n",
    "nltk.download('punkt')  # Pre-trained tokenizer models\n",
    "nltk.download('wordnet')  # WordNet lemmatizer dataset\n",
    "\n",
    "# Libraries for text feature extraction and model training\n",
    "from sklearn.feature_extraction.text import TfidfVectorizer  # Convert text into numerical features (TF-IDF)\n",
    "from sklearn.linear_model import LogisticRegression  # Logistic regression for classification\n",
    "from sklearn.model_selection import GridSearchCV  # For hyperparameter tuning\n",
    "from sklearn.svm import LinearSVC  # Support Vector Machines for classification\n",
    "\n",
    "# Libraries for model evaluation\n",
    "from sklearn.metrics import classification_report, accuracy_score, confusion_matrix  # For model evaluation metrics\n",
    "from sklearn.model_selection import KFold, cross_val_score  # For cross-validation\n",
    "from sklearn.model_selection import train_test_split # For splitting the dataset into training and testing sets\n",
    "from sklearn.metrics import classification_report, accuracy_score  # For evaluating the model's performance\n",
    "\n",
    "from collections import Counter  # For counting word frequencies"
   ]
  },
  {
   "cell_type": "markdown",
   "id": "9299d9e4",
   "metadata": {},
   "source": [
    "## 2. Load and Prepare the Dataset"
   ]
  },
  {
   "cell_type": "code",
   "execution_count": 52,
   "id": "d36e2e58",
   "metadata": {},
   "outputs": [
    {
     "data": {
      "text/html": [
       "<div>\n",
       "<style scoped>\n",
       "    .dataframe tbody tr th:only-of-type {\n",
       "        vertical-align: middle;\n",
       "    }\n",
       "\n",
       "    .dataframe tbody tr th {\n",
       "        vertical-align: top;\n",
       "    }\n",
       "\n",
       "    .dataframe thead th {\n",
       "        text-align: right;\n",
       "    }\n",
       "</style>\n",
       "<table border=\"1\" class=\"dataframe\">\n",
       "  <thead>\n",
       "    <tr style=\"text-align: right;\">\n",
       "      <th></th>\n",
       "      <th>Review</th>\n",
       "      <th>Liked</th>\n",
       "    </tr>\n",
       "  </thead>\n",
       "  <tbody>\n",
       "    <tr>\n",
       "      <th>0</th>\n",
       "      <td>Wow... Loved this place.</td>\n",
       "      <td>1</td>\n",
       "    </tr>\n",
       "    <tr>\n",
       "      <th>1</th>\n",
       "      <td>Crust is not good.</td>\n",
       "      <td>0</td>\n",
       "    </tr>\n",
       "    <tr>\n",
       "      <th>2</th>\n",
       "      <td>Not tasty and the texture was just nasty.</td>\n",
       "      <td>0</td>\n",
       "    </tr>\n",
       "    <tr>\n",
       "      <th>3</th>\n",
       "      <td>Stopped by during the late May bank holiday of...</td>\n",
       "      <td>1</td>\n",
       "    </tr>\n",
       "    <tr>\n",
       "      <th>4</th>\n",
       "      <td>The selection on the menu was great and so wer...</td>\n",
       "      <td>1</td>\n",
       "    </tr>\n",
       "  </tbody>\n",
       "</table>\n",
       "</div>"
      ],
      "text/plain": [
       "                                              Review  Liked\n",
       "0                           Wow... Loved this place.      1\n",
       "1                                 Crust is not good.      0\n",
       "2          Not tasty and the texture was just nasty.      0\n",
       "3  Stopped by during the late May bank holiday of...      1\n",
       "4  The selection on the menu was great and so wer...      1"
      ]
     },
     "execution_count": 52,
     "metadata": {},
     "output_type": "execute_result"
    }
   ],
   "source": [
    "df = pd.read_csv('/Users/dianaterraza/Desktop/nlp_project/data/Restaurant_Reviews.tsv', sep='\\t')\n",
    "df.head()"
   ]
  },
  {
   "cell_type": "code",
   "execution_count": 53,
   "id": "21fef368",
   "metadata": {},
   "outputs": [
    {
     "name": "stdout",
     "output_type": "stream",
     "text": [
      "Our server was fantastic and when he found out the wife loves roasted garlic and bone marrow, he added extra to our meal and another marrow to go!\n"
     ]
    }
   ],
   "source": [
    "print(df.iloc[100]['Review'])  # Display the review at index 100"
   ]
  },
  {
   "cell_type": "code",
   "execution_count": 54,
   "id": "1afa8c24",
   "metadata": {},
   "outputs": [
    {
     "data": {
      "text/plain": [
       "np.int64(1)"
      ]
     },
     "execution_count": 54,
     "metadata": {},
     "output_type": "execute_result"
    }
   ],
   "source": [
    "df.iloc[122]['Liked']  # Display the sentiment label for the review at index 120"
   ]
  },
  {
   "cell_type": "markdown",
   "id": "50481e28",
   "metadata": {},
   "source": [
    "Liked – A binary target variable:\n",
    "* 1: The customer liked the food.\n",
    "* 0: The customer did not like the food.\n",
    "\n",
    "### Count how many of every category we have"
   ]
  },
  {
   "cell_type": "code",
   "execution_count": 55,
   "id": "dfc89b8e",
   "metadata": {},
   "outputs": [
    {
     "data": {
      "text/plain": [
       "Liked\n",
       "1    500\n",
       "0    500\n",
       "Name: count, dtype: int64"
      ]
     },
     "execution_count": 55,
     "metadata": {},
     "output_type": "execute_result"
    }
   ],
   "source": [
    "df['Liked'].value_counts()"
   ]
  },
  {
   "cell_type": "markdown",
   "id": "4f8875d6",
   "metadata": {},
   "source": [
    "### Look for null values "
   ]
  },
  {
   "cell_type": "code",
   "execution_count": 56,
   "id": "6cc40020",
   "metadata": {},
   "outputs": [
    {
     "data": {
      "text/plain": [
       "Review    0\n",
       "Liked     0\n",
       "dtype: int64"
      ]
     },
     "execution_count": 56,
     "metadata": {},
     "output_type": "execute_result"
    }
   ],
   "source": [
    "df.isna().sum()"
   ]
  },
  {
   "cell_type": "markdown",
   "id": "06246fbb",
   "metadata": {},
   "source": [
    "### Visualize the positive and negatives numbers: (1) Liked the food, (0) didnt liked the food"
   ]
  },
  {
   "cell_type": "code",
   "execution_count": 57,
   "id": "53761d4d",
   "metadata": {},
   "outputs": [
    {
     "data": {
      "image/png": "[encoded data removed]",
      "text/plain": [
       "<Figure size 640x480 with 1 Axes>"
      ]
     },
     "metadata": {},
     "output_type": "display_data"
    }
   ],
   "source": [
    "import matplotlib.pyplot as plt  # For plotting\n",
    "\n",
    "#Get the values count \n",
    "counts = df['Liked'].value_counts()\n",
    "\n",
    "#Create a bar plot\n",
    "ax = counts.plot(kind='bar', color=['lightcoral', 'lightgreen'])\n",
    "ax.set_title('Distribution of Sentiment Labels')\n",
    "ax.set_xlabel('Sentiment Label')\n",
    "ax.set_ylabel('Count')\n",
    "plt.xticks(ticks=[0, 1], labels=['Did not like', 'Liked'], rotation=0)\n",
    "plt.show()"
   ]
  },
  {
   "cell_type": "markdown",
   "id": "dd11a047",
   "metadata": {},
   "source": [
    "To find frequent Keywords in Positive vs. Negative Reviews: Do certain words signal dissatisfaction (e.g., \"cold,\" \"slow,\" \"expensive\") while others indicate satisfaction (e.g., \"delicious,\" \"friendly,\" \"cozy\")?\n",
    "\n",
    "For that I need first of all \n",
    "1. Do a text preprocessing \n",
    "2. Separate Text by Sentiment Category\n",
    "3. Count Word Frequencies\n",
    "4. Beyond Simple Frequency - Using N-grams"
   ]
  },
  {
   "cell_type": "markdown",
   "id": "1c5824ca",
   "metadata": {},
   "source": [
    "## 3.1 Text Preprocessing  "
   ]
  },
  {
   "cell_type": "code",
   "execution_count": 58,
   "id": "49117d78",
   "metadata": {},
   "outputs": [
    {
     "name": "stdout",
     "output_type": "stream",
     "text": [
      "                                                Review  \\\n",
      "0                             Wow... Loved this place.   \n",
      "1                                   Crust is not good.   \n",
      "2            Not tasty and the texture was just nasty.   \n",
      "3    Stopped by during the late May bank holiday of...   \n",
      "4    The selection on the menu was great and so wer...   \n",
      "..                                                 ...   \n",
      "995  I think food should have flavor and texture an...   \n",
      "996                           Appetite instantly gone.   \n",
      "997  Overall I was not impressed and would not go b...   \n",
      "998  The whole experience was underwhelming, and I ...   \n",
      "999  Then, as if I hadn't wasted enough of my life ...   \n",
      "\n",
      "                                          clean_tokens  \n",
      "0                                  [wow, loved, place]  \n",
      "1                                        [crust, good]  \n",
      "2                              [tasty, texture, nasty]  \n",
      "3    [stopped, late, may, bank, holiday, rick, stev...  \n",
      "4                      [selection, menu, great, price]  \n",
      "..                                                 ...  \n",
      "995            [think, food, flavor, texture, lacking]  \n",
      "996                        [appetite, instantly, gone]  \n",
      "997              [overall, impressed, would, go, back]  \n",
      "998  [whole, experience, underwhelming, think, well...  \n",
      "999  [hadnt, wasted, enough, life, poured, salt, wo...  \n",
      "\n",
      "[1000 rows x 2 columns]\n"
     ]
    }
   ],
   "source": [
    "# Preprocessing function\n",
    "def preprocess_text(text):\n",
    "    lemmatizer = WordNetLemmatizer() # Reducing words to their base or root form\n",
    "    stop_words = set(stopwords.words('english')) #Eliminating common words like \"the,\" \"is,\" and \"a\" that don't carry much sentiment\n",
    "    text = text.lower() #Converting all words to lowercase to ensure consistency\n",
    "    text = re.sub(r'[^a-zA-Z\\s]', '', text)  # Remove punctuation and numbers\n",
    "    tokens = word_tokenize(text) # : Splitting the text into individual words or \"tokens.\"\n",
    "    filtered_tokens = [\n",
    "        lemmatizer.lemmatize(token) for token in tokens\n",
    "        if token not in stop_words\n",
    "    ]\n",
    "    return filtered_tokens\n",
    "\n",
    "# Apply the preprocessing\n",
    "df['clean_tokens'] = df['Review'].apply(preprocess_text)\n",
    "print(df[['Review', 'clean_tokens']])"
   ]
  },
  {
   "cell_type": "markdown",
   "id": "3c923558",
   "metadata": {},
   "source": [
    "### 3.2 Separate Text by Sentiment Category\n",
    "\n",
    "To find frequent words for each sentiment, I first need to group your data by its sentiment label in this case the Like column "
   ]
  },
  {
   "cell_type": "code",
   "execution_count": 59,
   "id": "71fb67d9",
   "metadata": {},
   "outputs": [],
   "source": [
    "# Separate the DataFrame into positive and negative sentiments\n",
    "positive_df = df[df['Liked'] == 1]\n",
    "negative_df = df[df['Liked'] == 0]\n",
    "\n",
    "# Flatten the list of tokens for each sentiment\n",
    "positive_words = [token for tokens in positive_df['clean_tokens'] for token in tokens]\n",
    "negative_words = [token for tokens in negative_df['clean_tokens'] for token in tokens]"
   ]
  },
  {
   "cell_type": "markdown",
   "id": "f386bde5",
   "metadata": {},
   "source": [
    "### 3.3 Count Word Frequencies\n",
    "\n",
    "Using collections.Counter to find the most common words for each category.\n",
    "\n"
   ]
  },
  {
   "cell_type": "code",
   "execution_count": 60,
   "id": "a673bb98",
   "metadata": {},
   "outputs": [
    {
     "name": "stdout",
     "output_type": "stream",
     "text": [
      "\n",
      "Top 10 Positive Words:\n",
      "[('good', 73), ('great', 70), ('place', 60), ('food', 60), ('service', 46), ('time', 26), ('friendly', 23), ('delicious', 23), ('back', 23), ('nice', 22)]\n",
      "\n",
      "Top 10 Negative Words:\n",
      "[('food', 65), ('place', 51), ('back', 38), ('service', 38), ('like', 29), ('time', 29), ('go', 26), ('dont', 25), ('good', 22), ('never', 22)]\n"
     ]
    }
   ],
   "source": [
    "# Count the frequency of words in each sentiment group\n",
    "positive_word_counts = Counter(positive_words)\n",
    "negative_word_counts = Counter(negative_words)\n",
    "\n",
    "# Get the top N most frequent words for each sentiment\n",
    "top_10_positive = positive_word_counts.most_common(10)\n",
    "top_10_negative = negative_word_counts.most_common(10)\n",
    "\n",
    "print(\"\\nTop 10 Positive Words:\")\n",
    "print(top_10_positive)\n",
    "print(\"\\nTop 10 Negative Words:\")\n",
    "print(top_10_negative)"
   ]
  },
  {
   "cell_type": "markdown",
   "id": "e63e1b56",
   "metadata": {},
   "source": [
    "### 3.4 Beyond Simple Frequency - Using N-grams\n",
    "\n",
    "Simple word frequency (unigrams) can be misleading, especially with negations. For example, \"not good\" should be treated as a negative phrase, but a simple unigram count would count \"good\" as a positive word.\n",
    "\n",
    "Using N-grams (sequences of N words) helps solve this. You can find frequent pairs of words (bigrams) or triples (trigrams) that might be more indicative of sentiment"
   ]
  },
  {
   "cell_type": "code",
   "execution_count": 61,
   "id": "0ed1df6b",
   "metadata": {},
   "outputs": [
    {
     "name": "stdout",
     "output_type": "stream",
     "text": [
      "\n",
      "Top 10 Positive Bigrams:\n",
      "[(('great', 'food'), 8), (('food', 'good'), 7), (('great', 'service'), 6), (('go', 'back'), 6), (('really', 'good'), 6), (('good', 'food'), 6), (('food', 'great'), 6), (('great', 'place'), 6), (('food', 'delicious'), 5), (('first', 'time'), 5)]\n",
      "\n",
      "Top 10 Negative Bigrams:\n",
      "[(('go', 'back'), 12), (('going', 'back'), 7), (('dont', 'think'), 5), (('wont', 'back'), 5), (('ever', 'go'), 5), (('anytime', 'soon'), 5), (('bad', 'food'), 4), (('never', 'ever'), 4), (('waste', 'time'), 4), (('zero', 'star'), 4)]\n"
     ]
    }
   ],
   "source": [
    "# Generate bigrams for each sentiment\n",
    "positive_bigrams = list(bigrams(positive_words))\n",
    "negative_bigrams = list(bigrams(negative_words))\n",
    "\n",
    "# Count the frequency of bigrams\n",
    "positive_bigram_counts = Counter(positive_bigrams)\n",
    "negative_bigram_counts = Counter(negative_bigrams)\n",
    "\n",
    "# Get the top 10 most frequent bigrams for each sentiment\n",
    "top_10_positive_bigrams = positive_bigram_counts.most_common(10)\n",
    "top_10_negative_bigrams = negative_bigram_counts.most_common(10)\n",
    "\n",
    "print(\"\\nTop 10 Positive Bigrams:\")\n",
    "print(top_10_positive_bigrams)\n",
    "print(\"\\nTop 10 Negative Bigrams:\")\n",
    "print(top_10_negative_bigrams)"
   ]
  },
  {
   "cell_type": "code",
   "execution_count": 62,
   "id": "5bd5f2f3",
   "metadata": {},
   "outputs": [
    {
     "data": {
      "text/html": [
       "<div>\n",
       "<style scoped>\n",
       "    .dataframe tbody tr th:only-of-type {\n",
       "        vertical-align: middle;\n",
       "    }\n",
       "\n",
       "    .dataframe tbody tr th {\n",
       "        vertical-align: top;\n",
       "    }\n",
       "\n",
       "    .dataframe thead th {\n",
       "        text-align: right;\n",
       "    }\n",
       "</style>\n",
       "<table border=\"1\" class=\"dataframe\">\n",
       "  <thead>\n",
       "    <tr style=\"text-align: right;\">\n",
       "      <th></th>\n",
       "      <th>Review</th>\n",
       "      <th>Liked</th>\n",
       "      <th>clean_tokens</th>\n",
       "    </tr>\n",
       "  </thead>\n",
       "  <tbody>\n",
       "    <tr>\n",
       "      <th>0</th>\n",
       "      <td>Wow... Loved this place.</td>\n",
       "      <td>1</td>\n",
       "      <td>[wow, loved, place]</td>\n",
       "    </tr>\n",
       "    <tr>\n",
       "      <th>1</th>\n",
       "      <td>Crust is not good.</td>\n",
       "      <td>0</td>\n",
       "      <td>[crust, good]</td>\n",
       "    </tr>\n",
       "    <tr>\n",
       "      <th>2</th>\n",
       "      <td>Not tasty and the texture was just nasty.</td>\n",
       "      <td>0</td>\n",
       "      <td>[tasty, texture, nasty]</td>\n",
       "    </tr>\n",
       "    <tr>\n",
       "      <th>3</th>\n",
       "      <td>Stopped by during the late May bank holiday of...</td>\n",
       "      <td>1</td>\n",
       "      <td>[stopped, late, may, bank, holiday, rick, stev...</td>\n",
       "    </tr>\n",
       "    <tr>\n",
       "      <th>4</th>\n",
       "      <td>The selection on the menu was great and so wer...</td>\n",
       "      <td>1</td>\n",
       "      <td>[selection, menu, great, price]</td>\n",
       "    </tr>\n",
       "  </tbody>\n",
       "</table>\n",
       "</div>"
      ],
      "text/plain": [
       "                                              Review  Liked  \\\n",
       "0                           Wow... Loved this place.      1   \n",
       "1                                 Crust is not good.      0   \n",
       "2          Not tasty and the texture was just nasty.      0   \n",
       "3  Stopped by during the late May bank holiday of...      1   \n",
       "4  The selection on the menu was great and so wer...      1   \n",
       "\n",
       "                                        clean_tokens  \n",
       "0                                [wow, loved, place]  \n",
       "1                                      [crust, good]  \n",
       "2                            [tasty, texture, nasty]  \n",
       "3  [stopped, late, may, bank, holiday, rick, stev...  \n",
       "4                    [selection, menu, great, price]  "
      ]
     },
     "execution_count": 62,
     "metadata": {},
     "output_type": "execute_result"
    }
   ],
   "source": [
    "df.head()"
   ]
  },
  {
   "cell_type": "markdown",
   "id": "0c7fe0e2",
   "metadata": {},
   "source": [
    "## 4. Shuffle the Data and Split in train and Test \n",
    "\n",
    "The main reason is to ensure that my training and test data sets are representative of the full data set.\n",
    "\n",
    "Randomly shuffling the data ensures that the proportion of positive and negative reviews is roughly the same in both sets (training and testing), allowing the model to learn from all types of data and evaluate itself fairly."
   ]
  },
  {
   "cell_type": "code",
   "execution_count": 63,
   "id": "4b6bed03",
   "metadata": {},
   "outputs": [
    {
     "name": "stdout",
     "output_type": "stream",
     "text": [
      "Training set size (X_train): (800,)\n",
      "Test set size (X_test): (200,)\n",
      "Training target size (y_train): (800,)\n",
      "Test target size (y_test): (200,)\n"
     ]
    }
   ],
   "source": [
    "# 1. Import the necessary library\n",
    "from sklearn.model_selection import train_test_split\n",
    "\n",
    "# 2. Prepare your data\n",
    "# 'X' will be your features (the text or tokens column)\n",
    "# 'y' will be your target variable (the 'Liked' sentiment column)\n",
    "X = df['clean_tokens'].apply(lambda tokens: ' '.join(tokens))\n",
    "y = df['Liked']\n",
    "\n",
    "# 3. Split the data into training and testing sets.\n",
    "# `train_test_split` automatically shuffles the data for you,\n",
    "# so you don't need a separate shuffling step.\n",
    "# `test_size` specifies the proportion for the test set (e.g., 20%)\n",
    "# `random_state` ensures the split is the same every time you run the code.\n",
    "X_train, X_test, y_train, y_test = train_test_split(X, y, test_size=0.2, random_state=42)\n",
    "\n",
    "# Display the size of the new datasets\n",
    "print(\"Training set size (X_train):\", X_train.shape)\n",
    "print(\"Test set size (X_test):\", X_test.shape)\n",
    "print(\"Training target size (y_train):\", y_train.shape)\n",
    "print(\"Test target size (y_test):\", y_test.shape)"
   ]
  },
  {
   "cell_type": "markdown",
   "id": "e3a03086",
   "metadata": {},
   "source": [
    "## 5. Feature Engineering\n",
    "\n",
    "Using techniques like TF-IDF, word embeddings, or sentiment lexicons to improve model performance.\n",
    "\n",
    "TF-IDF stands for Term Frequency-Inverse Document Frequency \n",
    "\n",
    "The TF-IDF Vectorizer is a widely used tool for this purpose. It transforms sentences into a sparse matrix where each row corresponds to a document (sentence) and each column represents a term (word or token).\n",
    "\n",
    "Here, we’ll use the TfidfVectorizer out of the box with its default configuration. By default, this includes:\n",
    "* Only unigrams (individual terms/tokens) as features.\n",
    "* A maximum document frequency of 1.0 (no terms are excluded based on frequency).\n",
    "* Normalization applied to the resulting feature vectors."
   ]
  },
  {
   "cell_type": "code",
   "execution_count": 64,
   "id": "664bed2f",
   "metadata": {},
   "outputs": [
    {
     "name": "stdout",
     "output_type": "stream",
     "text": [
      "Shape of TF-IDF matrix (Training): (800, 5020)\n",
      "Shape of TF-IDF matrix (Testing): (200, 5020)\n"
     ]
    }
   ],
   "source": [
    "# Import TF-IDF Vectorizer\n",
    "from sklearn.feature_extraction.text import TfidfVectorizer\n",
    "\n",
    "# Define the vectorizer\n",
    "# I add the parameter `ngram_range=(1, 2)` to include both unigrams (single words) and bigrams (two-word combinations).\n",
    "tfidf_vectorizer = TfidfVectorizer(ngram_range=(1, 2))\n",
    "\n",
    "# Fit the vectorizer on the TRAINING data and transform it.\n",
    "# This learns the vocabulary and feature weights from the training set.\n",
    "X_train_tfidf = tfidf_vectorizer.fit_transform(X_train)\n",
    "\n",
    "# Transform the TEST data using the SAME vectorizer.\n",
    "# We use only `transform` here to apply the vocabulary and weights learned from the training data.\n",
    "X_test_tfidf = tfidf_vectorizer.transform(X_test)\n",
    "\n",
    "# Check the shapes to confirm the transformation was successful\n",
    "print(\"Shape of TF-IDF matrix (Training):\", X_train_tfidf.shape)\n",
    "print(\"Shape of TF-IDF matrix (Testing):\", X_test_tfidf.shape)"
   ]
  },
  {
   "cell_type": "markdown",
   "id": "1fa95d31",
   "metadata": {},
   "source": [
    "## 6. Training The Classifier: Model Selection "
   ]
  },
  {
   "cell_type": "markdown",
   "id": "eb674ce4",
   "metadata": {},
   "source": [
    "### Comparative table between logistic regression vs. decision tree classifier\n",
    "\n",
    "Logistic Regression is a linear model. It finds a straight line (or hyperplane) to separate the data. It's often a great baseline model, is fast to train, and its results are easy to interpret.\n",
    "\n",
    "Decision Tree is a non-linear model. It makes a series of if-then-else decisions to classify data. It can capture more complex relationships but is prone to overfitting, meaning it might perform well on your training data but poorly on unseen test data. The max_depth parameter helps control this by limiting the complexity of the tree."
   ]
  },
  {
   "cell_type": "code",
   "execution_count": 65,
   "id": "b2d17818",
   "metadata": {},
   "outputs": [
    {
     "name": "stdout",
     "output_type": "stream",
     "text": [
      "\n",
      "--- Training Logistic Regression Model ---\n",
      "Logistic Regression Accuracy: 0.79\n",
      "\n",
      "Logistic Regression Classification Report:\n",
      "               precision    recall  f1-score   support\n",
      "\n",
      "           0       0.76      0.82      0.79        96\n",
      "           1       0.82      0.76      0.79       104\n",
      "\n",
      "    accuracy                           0.79       200\n",
      "   macro avg       0.79      0.79      0.79       200\n",
      "weighted avg       0.79      0.79      0.79       200\n",
      "\n",
      "\n",
      "--- Training Decision Tree Model ---\n",
      "Decision Tree Accuracy: 0.645\n",
      "\n",
      "Decision Tree Classification Report:\n",
      "               precision    recall  f1-score   support\n",
      "\n",
      "           0       0.58      0.93      0.71        96\n",
      "           1       0.85      0.38      0.53       104\n",
      "\n",
      "    accuracy                           0.65       200\n",
      "   macro avg       0.72      0.66      0.62       200\n",
      "weighted avg       0.72      0.65      0.62       200\n",
      "\n"
     ]
    }
   ],
   "source": [
    "# Model 1: Logistic Regression\n",
    "print(\"\\n--- Training Logistic Regression Model ---\")\n",
    "lr_model = LogisticRegression(random_state=42)\n",
    "lr_model.fit(X_train_tfidf, y_train)\n",
    "\n",
    "# Make predictions and evaluate\n",
    "lr_predictions = lr_model.predict(X_test_tfidf)\n",
    "print(\"Logistic Regression Accuracy:\", accuracy_score(y_test, lr_predictions))\n",
    "print(\"\\nLogistic Regression Classification Report:\\n\", classification_report(y_test, lr_predictions))\n",
    "\n",
    "# Model 2: Decision Tree\n",
    "print(\"\\n--- Training Decision Tree Model ---\")\n",
    "dt_model = DecisionTreeClassifier(random_state=42, max_depth=10)\n",
    "dt_model.fit(X_train_tfidf, y_train)\n",
    "\n",
    "# Make predictions and evaluate\n",
    "dt_predictions = dt_model.predict(X_test_tfidf)\n",
    "print(\"Decision Tree Accuracy:\", accuracy_score(y_test, dt_predictions))\n",
    "print(\"\\nDecision Tree Classification Report:\\n\", classification_report(y_test, dt_predictions))"
   ]
  },
  {
   "cell_type": "markdown",
   "id": "b057646c",
   "metadata": {},
   "source": [
    "### How to Interpret the Results: "
   ]
  },
  {
   "cell_type": "markdown",
   "id": "d04a5690",
   "metadata": {},
   "source": [
    "| Metric | Logistic Regression | Decision Tree |\n",
    "| :--- | :--- | :--- |\n",
    "| **Accuracy** | 0.775 | 0.635 |\n",
    "| **Precision (Class 0)** | 0.74 | 0.58 |\n",
    "| **Recall (Class 0)** | 0.82 | 0.92 |\n",
    "| **F1-Score (Class 0)** | 0.78 | 0.71 |\n",
    "| **Precision (Class 1)** | 0.82 | 0.83 |\n",
    "| **Recall (Class 1)** | 0.73 | 0.38 |\n",
    "| **F1-Score (Class 1)** | 0.77 | 0.52 |"
   ]
  },
  {
   "cell_type": "markdown",
   "id": "25f2b5f6",
   "metadata": {},
   "source": [
    "**Conclusion:** The Logistic Regression is the model with the best overall performance for this dataset, showing higher accuracy and a better balance between the metrics of both classes."
   ]
  },
  {
   "cell_type": "markdown",
   "id": "314d9b73",
   "metadata": {},
   "source": [
    "After selecting a model like Logistic Regression, the next professional step is to improve its performance and get a more reliable evaluation. \n",
    "\n",
    "The best way to do this is by combining two techniques:\n",
    "\n",
    "* k-fold cross-validation: This involves splitting the data into multiple folds and training the model on different combinations of these folds. It gives a more stable and trustworthy performance score than a single train-test split.\n",
    "\n",
    "* Hyperparameter tuning: This is the process of finding the optimal settings (hyperparameters) for your model, such as the C value in Logistic Regression, to maximize its performance.\n",
    "\n",
    "The most effective and professional practice is to use a tool like GridSearchCV that performs both of these steps automatically, ensuring you find the best possible model settings and a reliable performance score."
   ]
  },
  {
   "cell_type": "markdown",
   "id": "e67bb1f7",
   "metadata": {},
   "source": [
    "## 7. Hyperparameter Tuning with Cross-Validation"
   ]
  },
  {
   "cell_type": "code",
   "execution_count": 49,
   "id": "79269bf9",
   "metadata": {},
   "outputs": [
    {
     "name": "stdout",
     "output_type": "stream",
     "text": [
      "\n",
      "--- Hyperparameter Tuning for Logistic Regression ---\n",
      "Best parameters found:  {'C': 10.0}\n",
      "Best cross-validation score: 0.79\n",
      "\n",
      "--- Evaluation of the Best Logistic Regression Model ---\n",
      "Accuracy of the best model: 0.795\n",
      "\n",
      "Classification Report:\n",
      "               precision    recall  f1-score   support\n",
      "\n",
      "           0       0.77      0.82      0.79        96\n",
      "           1       0.82      0.77      0.80       104\n",
      "\n",
      "    accuracy                           0.80       200\n",
      "   macro avg       0.80      0.80      0.79       200\n",
      "weighted avg       0.80      0.80      0.80       200\n",
      "\n"
     ]
    }
   ],
   "source": [
    "# Import necessary libraries for cross-validation and hyperparameter tuning\n",
    "from sklearn.model_selection import GridSearchCV\n",
    "from sklearn.linear_model import LogisticRegression\n",
    "from sklearn.metrics import classification_report, accuracy_score\n",
    "\n",
    "# --- Hyperparameter Tuning for Logistic Regression ---\n",
    "# Cross-validation is used to find the best 'C' parameter\n",
    "# (regularization strength) for the model.\n",
    "\n",
    "print(\"\\n--- Hyperparameter Tuning for Logistic Regression ---\")\n",
    "\n",
    "# Define the parameters you want to test.\n",
    "# 'C' is the regularization hyperparameter. Smaller values mean\n",
    "# stronger regularization.\n",
    "param_grid = {'C': [0.1, 1.0, 10.0, 100.0]}\n",
    "\n",
    "# Create the GridSearchCV object.\n",
    "# - estimator: the model to be tuned (LogisticRegression).\n",
    "# - param_grid: the dictionary of parameters to test.\n",
    "# - cv: the number of folds for cross-validation.\n",
    "grid_search = GridSearchCV(LogisticRegression(random_state=42), param_grid, cv=5, scoring='accuracy')\n",
    "\n",
    "# Fit the GridSearchCV to your training data.\n",
    "# This trains the model 5 times for each 'C' value.\n",
    "grid_search.fit(X_train_tfidf, y_train)\n",
    "\n",
    "# Display the best parameters found\n",
    "print(\"Best parameters found: \", grid_search.best_params_)\n",
    "print(\"Best cross-validation score: {:.2f}\".format(grid_search.best_score_))\n",
    "\n",
    "# --- Evaluation of the Best Model ---\n",
    "# Use the best model found to make predictions on the test set\n",
    "best_lr_model = grid_search.best_estimator_\n",
    "best_lr_predictions = best_lr_model.predict(X_test_tfidf)\n",
    "\n",
    "# Display the classification report of the best model\n",
    "print(\"\\n--- Evaluation of the Best Logistic Regression Model ---\")\n",
    "print(\"Accuracy of the best model: {:.3f}\".format(accuracy_score(y_test, best_lr_predictions)))\n",
    "print(\"\\nClassification Report:\\n\", classification_report(y_test, best_lr_predictions))"
   ]
  },
  {
   "cell_type": "markdown",
   "id": "b77b4964",
   "metadata": {},
   "source": [
    "**LinearSVC** is a fast and efficient linear classifier based on Support Vector Machines (SVM). \n",
    "\n",
    "It is particularly well-suited for high-dimensional datasets like those created from text data using TF-IDF. \n",
    "It finds an optimal boundary to separate classes and, like Logistic Regression, uses a C parameter to manage overfitting. \n",
    "By tuning and comparing it against your Logistic Regression model, you can determine which one is the best linear classifier for your specific sentiment analysis task."
   ]
  },
  {
   "cell_type": "code",
   "execution_count": 50,
   "id": "a004a942",
   "metadata": {},
   "outputs": [
    {
     "name": "stdout",
     "output_type": "stream",
     "text": [
      "\n",
      "--- Hyperparameter Tuning for LinearSVC ---\n",
      "Best parameters found (LinearSVC):  {'C': 1.0}\n",
      "Best cross-validation score (LinearSVC): 0.79\n",
      "\n",
      "--- Evaluation of the Best LinearSVC Model ---\n",
      "Accuracy of the best model: 0.795\n",
      "\n",
      "Classification Report:\n",
      "               precision    recall  f1-score   support\n",
      "\n",
      "           0       0.77      0.81      0.79        96\n",
      "           1       0.82      0.78      0.80       104\n",
      "\n",
      "    accuracy                           0.80       200\n",
      "   macro avg       0.80      0.80      0.79       200\n",
      "weighted avg       0.80      0.80      0.80       200\n",
      "\n"
     ]
    },
    {
     "name": "stderr",
     "output_type": "stream",
     "text": [
      "/Users/dianaterraza/Desktop/nlp_project/cat/lib/python3.12/site-packages/sklearn/svm/_base.py:1250: ConvergenceWarning: Liblinear failed to converge, increase the number of iterations.\n",
      "  warnings.warn(\n",
      "/Users/dianaterraza/Desktop/nlp_project/cat/lib/python3.12/site-packages/sklearn/svm/_base.py:1250: ConvergenceWarning: Liblinear failed to converge, increase the number of iterations.\n",
      "  warnings.warn(\n",
      "/Users/dianaterraza/Desktop/nlp_project/cat/lib/python3.12/site-packages/sklearn/svm/_base.py:1250: ConvergenceWarning: Liblinear failed to converge, increase the number of iterations.\n",
      "  warnings.warn(\n",
      "/Users/dianaterraza/Desktop/nlp_project/cat/lib/python3.12/site-packages/sklearn/svm/_base.py:1250: ConvergenceWarning: Liblinear failed to converge, increase the number of iterations.\n",
      "  warnings.warn(\n",
      "/Users/dianaterraza/Desktop/nlp_project/cat/lib/python3.12/site-packages/sklearn/svm/_base.py:1250: ConvergenceWarning: Liblinear failed to converge, increase the number of iterations.\n",
      "  warnings.warn(\n"
     ]
    }
   ],
   "source": [
    "# --- Hyperparameter Tuning for LinearSVC ---\n",
    "# Similar to Logistic Regression, we'll tune the 'C' parameter for LinearSVC\n",
    "print(\"\\n--- Hyperparameter Tuning for LinearSVC ---\")\n",
    "\n",
    "# Define the parameters to test for LinearSVC.\n",
    "param_grid_svc = {'C': [0.1, 1.0, 10.0, 100.0]}\n",
    "\n",
    "# Create the GridSearchCV object for LinearSVC\n",
    "grid_search_svc = GridSearchCV(LinearSVC(random_state=42), param_grid_svc, cv=5, scoring='accuracy')\n",
    "\n",
    "# Fit the GridSearchCV to the training data\n",
    "grid_search_svc.fit(X_train_tfidf, y_train)\n",
    "\n",
    "# Display the best parameters and score\n",
    "print(\"Best parameters found (LinearSVC): \", grid_search_svc.best_params_)\n",
    "print(\"Best cross-validation score (LinearSVC): {:.2f}\".format(grid_search_svc.best_score_))\n",
    "\n",
    "# --- Evaluation of the Best LinearSVC Model ---\n",
    "best_svc_model = grid_search_svc.best_estimator_\n",
    "best_svc_predictions = best_svc_model.predict(X_test_tfidf)\n",
    "\n",
    "print(\"\\n--- Evaluation of the Best LinearSVC Model ---\")\n",
    "print(\"Accuracy of the best model: {:.3f}\".format(accuracy_score(y_test, best_svc_predictions)))\n",
    "print(\"\\nClassification Report:\\n\", classification_report(y_test, best_svc_predictions))\n"
   ]
  },
  {
   "cell_type": "markdown",
   "id": "8522e1c4",
   "metadata": {},
   "source": [
    "### 8. Conclusion\n",
    "\n",
    "Both the Logistic Regression and LinearSVC models, after being optimized with GridSearchCV, show nearly identical performance on your dataset.\n",
    "\n",
    "Both models achieved a final accuracy of 0.795.\n",
    "\n",
    "The F1-Score, Precision, and Recall metrics are also extremely close for both models.\n",
    "\n",
    "In this case, either model would be an excellent choice. Since they perform similarly, the choice often comes down to other factors like training time or ease of implementation, but for this problem, the difference is negligible.\n",
    "\n",
    "You can select either the hyperparameter-tuned Logistic Regression model or the LinearSVC model for your final sentiment classifier."
   ]
  }
 ],
 "metadata": {
  "kernelspec": {
   "display_name": "cat (3.12.2)",
   "language": "python",
   "name": "python3"
  },
  "language_info": {
   "codemirror_mode": {
    "name": "ipython",
    "version": 3
   },
   "file_extension": ".py",
   "mimetype": "text/x-python",
   "name": "python",
   "nbconvert_exporter": "python",
   "pygments_lexer": "ipython3",
   "version": "3.12.2"
  }
 },
 "nbformat": 4,
 "nbformat_minor": 5
}
